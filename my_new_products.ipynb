{
  "nbformat": 4,
  "nbformat_minor": 0,
  "metadata": {
    "colab": {
      "name": "my new products.ipynb",
      "provenance": [],
      "collapsed_sections": []
    },
    "kernelspec": {
      "name": "python3",
      "display_name": "Python 3"
    },
    "language_info": {
      "name": "python"
    }
  },
  "cells": [
    {
      "cell_type": "code",
      "metadata": {
        "id": "_645FgtW9sMx"
      },
      "source": [
        "import json"
      ],
      "execution_count": null,
      "outputs": []
    },
    {
      "cell_type": "code",
      "metadata": {
        "id": "apt0vqNoIJyh"
      },
      "source": [
        "fd = open(\"record.json\",'r')\n",
        "r = fd.read()\n",
        "fd.close()\n",
        "\n",
        "record = json.loads(r)"
      ],
      "execution_count": null,
      "outputs": []
    },
    {
      "cell_type": "code",
      "metadata": {
        "colab": {
          "base_uri": "https://localhost:8080/",
          "height": 137
        },
        "id": "NxjJXQxr3YIN",
        "outputId": "13dc6d15-80a8-450f-a079-6503e9524b60"
      },
      "source": [
        "r"
      ],
      "execution_count": null,
      "outputs": [
        {
          "output_type": "execute_result",
          "data": {
            "application/vnd.google.colaboratory.intrinsic+json": {
              "type": "string"
            },
            "text/plain": [
              "'{\"1001\": {\"name\": \"Choco Cake\", \"qn\": 34, \"pr\": 100}, \"1002\": {\"name\": \"Milk Cake\", \"pr\": 800, \"qn\": 100}, \"1003\": {\"name\": \"Drink\", \"pr\": 85, \"qn\": 100}, \"1004\": {\"name\": \"Candy\", \"pr\": 5, \"qn\": 1000}, \"1005\": {\"name\": \"Pen\", \"pr\": 20, \"qn\": 100}, \"1006\": {\"name\": \"Phone\", \"pr\": 50000, \"qn\": 10}, \"1007\": {\"name\": \"Mic\", \"pr\": 1500, \"qn\": 0}, \"1008\": {\"name\": \"Case\", \"pr\": 599, \"qn\": 5}, \"1009\": {\"name\": \"Keyboard\", \"pr\": 1999, \"qn\": 10}, \"1010\": {\"name\": \"mouse\", \"pr\": 300, \"qn\": 7}, \"1011\": {\"name\": \"notebook\", \"pr\": 50, \"qn\": 50}, \"1012\": {\"name\": \"shoes\", \"pr\": 500, \"qn\": 2}, \"1013\": {\"name\": \"bag\", \"pr\": 680, \"qn\": 7}, \"1014\": {\"name\": \"bottle\", \"pr\": 60, \"qn\": 40}, \"1015\": {\"name\": \"juice\", \"pr\": 20, \"qn\": 10}, \"1016\": {\"name\": \"shirt\", \"pr\": 450, \"qn\": 3}, \"1017\": {\"name\": \"maggi\", \"pr\": 10, \"qn\": 10}, \"1018\": {\"name\": \"chips\", \"pr\": 20, \"qn\": 30}, \"1019\": {\"name\": \"fruits\", \"pr\": 30, \"qn\": 20}, \"1020\": {\"name\": \"vegetables\", \"pr\": 40, \"qn\": 25}, \"1021\": {\"name\": \"pencil\", \"pr\": 2, \"qn\": 100}, \"1022\": {\"name\": \"books\", \"pr\": 300, \"qn\": 2}, \"1023\": {\"name\": \"marker\", \"pr\": 25, \"qn\": 4}, \"1024\": {\"name\": \"eraser\", \"pr\": 5, \"qn\": 10}, \"1025\": {\"name\": \"ipad\", \"pr\": 60000, \"qn\": 1}, \"1026\": {\"name\": \"speakers\", \"pr\": 40000, \"qn\": 1}, \"1027\": {\"name\": \"light\", \"pr\": 455, \"qn\": 4}, \"1028\": {\"name\": \"stickers\", \"pr\": 70, \"qn\": 2}, \"1029\": {\"name\": \"charger\", \"pr\": 400, \"qn\": 1}, \"1030\": {\"name\": \"mask\", \"pr\": 40, \"qn\": 15}}'"
            ]
          },
          "metadata": {},
          "execution_count": 118
        }
      ]
    },
    {
      "cell_type": "code",
      "metadata": {
        "id": "LBmUa6Cu3be-"
      },
      "source": [
        "js = json.dumps(record)"
      ],
      "execution_count": null,
      "outputs": []
    },
    {
      "cell_type": "code",
      "metadata": {
        "colab": {
          "base_uri": "https://localhost:8080/"
        },
        "id": "jmgfXcXN3fzE",
        "outputId": "838fae46-c59f-41d1-e773-79f8ae8411e2"
      },
      "source": [
        "record"
      ],
      "execution_count": null,
      "outputs": [
        {
          "output_type": "execute_result",
          "data": {
            "text/plain": [
              "{'1001': {'name': 'Choco Cake', 'pr': 100, 'qn': 34},\n",
              " '1002': {'name': 'Milk Cake', 'pr': 800, 'qn': 100},\n",
              " '1003': {'name': 'Drink', 'pr': 85, 'qn': 100},\n",
              " '1004': {'name': 'Candy', 'pr': 5, 'qn': 990},\n",
              " '1005': {'name': 'Pen', 'pr': 20, 'qn': 100},\n",
              " '1006': {'name': 'Phone', 'pr': 50000, 'qn': 10},\n",
              " '1007': {'name': 'Mic', 'pr': 1500, 'qn': 0},\n",
              " '1008': {'name': 'Case', 'pr': 599, 'qn': 5},\n",
              " '1009': {'name': 'Keyboard', 'pr': 1999, 'qn': 8},\n",
              " '1010': {'name': 'mouse', 'pr': 300, 'qn': 7},\n",
              " '1011': {'name': 'notebook', 'pr': 50, 'qn': 46},\n",
              " '1012': {'name': 'shoes', 'pr': 500, 'qn': 2},\n",
              " '1013': {'name': 'bag', 'pr': 680, 'qn': 7},\n",
              " '1014': {'name': 'bottle', 'pr': 60, 'qn': 40},\n",
              " '1015': {'name': 'juice', 'pr': 20, 'qn': 10},\n",
              " '1016': {'name': 'shirt', 'pr': 450, 'qn': 3},\n",
              " '1017': {'name': 'maggi', 'pr': 10, 'qn': 10},\n",
              " '1018': {'name': 'chips', 'pr': 20, 'qn': 30},\n",
              " '1019': {'name': 'fruits', 'pr': 30, 'qn': 20},\n",
              " '1020': {'name': 'vegetables', 'pr': 40, 'qn': 25},\n",
              " '1021': {'name': 'pencil', 'pr': 2, 'qn': 100},\n",
              " '1022': {'name': 'books', 'pr': 300, 'qn': 2},\n",
              " '1023': {'name': 'marker', 'pr': 25, 'qn': -4},\n",
              " '1024': {'name': 'eraser', 'pr': 5, 'qn': 10},\n",
              " '1025': {'name': 'ipad', 'pr': 60000, 'qn': 1},\n",
              " '1026': {'name': 'speakers', 'pr': 40000, 'qn': 1},\n",
              " '1027': {'name': 'light', 'pr': 455, 'qn': 4},\n",
              " '1028': {'name': 'stickers', 'pr': 70, 'qn': 2},\n",
              " '1029': {'name': 'charger', 'pr': 400, 'qn': 1},\n",
              " '1030': {'name': 'mask', 'pr': 40, 'qn': 7}}"
            ]
          },
          "metadata": {},
          "execution_count": 120
        }
      ]
    },
    {
      "cell_type": "code",
      "metadata": {
        "colab": {
          "base_uri": "https://localhost:8080/"
        },
        "id": "H7MT58XUwJaD",
        "outputId": "77f9ccda-b806-4264-ccdb-bbf93e83f571"
      },
      "source": [
        "prod_id = str(input(\"Enter product id:\"))\n",
        "name = str(input(\"Enter name:\"))\n",
        "pr = int(input(\"Enter price:\"))\n",
        "qn = int(input(\"Enter quantity:\"))\n",
        "\n",
        "record[prod_id] = {'name': name, 'pr': pr, 'qn': qn}\n",
        "\n",
        "js = json.dumps(record)\n",
        "\n",
        "fd = open(\"record.json\",'w')\n",
        "fd.write(js)\n",
        "fd.close()"
      ],
      "execution_count": null,
      "outputs": [
        {
          "name": "stdout",
          "output_type": "stream",
          "text": [
            "Enter product id:1031\n",
            "Enter name:abc\n",
            "Enter price:300\n",
            "Enter quantity:9\n"
          ]
        }
      ]
    },
    {
      "cell_type": "code",
      "metadata": {
        "id": "k6MMsT18xWUL"
      },
      "source": [
        "del record['1031']"
      ],
      "execution_count": null,
      "outputs": []
    },
    {
      "cell_type": "code",
      "metadata": {
        "colab": {
          "base_uri": "https://localhost:8080/"
        },
        "id": "IuaV8VB8wLP0",
        "outputId": "9e7113be-8763-4334-d16c-726b44446b97"
      },
      "source": [
        "record"
      ],
      "execution_count": null,
      "outputs": [
        {
          "output_type": "execute_result",
          "data": {
            "text/plain": [
              "{'1001': {'name': 'Choco Cake', 'pr': 100, 'qn': 34},\n",
              " '1002': {'name': 'Milk Cake', 'pr': 800, 'qn': 100},\n",
              " '1003': {'name': 'Drink', 'pr': 85, 'qn': 100},\n",
              " '1004': {'name': 'Candy', 'pr': 5, 'qn': 990},\n",
              " '1005': {'name': 'Pen', 'pr': 20, 'qn': 100},\n",
              " '1006': {'name': 'Phone', 'pr': 50000, 'qn': 10},\n",
              " '1007': {'name': 'Mic', 'pr': 1500, 'qn': 0},\n",
              " '1008': {'name': 'Case', 'pr': 599, 'qn': 5},\n",
              " '1009': {'name': 'Keyboard', 'pr': 1999, 'qn': 8},\n",
              " '1010': {'name': 'mouse', 'pr': 300, 'qn': 7},\n",
              " '1011': {'name': 'notebook', 'pr': 50, 'qn': 46},\n",
              " '1012': {'name': 'shoes', 'pr': 500, 'qn': 2},\n",
              " '1013': {'name': 'bag', 'pr': 680, 'qn': 7},\n",
              " '1014': {'name': 'bottle', 'pr': 60, 'qn': 40},\n",
              " '1015': {'name': 'juice', 'pr': 20, 'qn': 10},\n",
              " '1016': {'name': 'shirt', 'pr': 450, 'qn': 3},\n",
              " '1017': {'name': 'maggi', 'pr': 10, 'qn': 10},\n",
              " '1018': {'name': 'chips', 'pr': 20, 'qn': 30},\n",
              " '1019': {'name': 'fruits', 'pr': 30, 'qn': 20},\n",
              " '1020': {'name': 'vegetables', 'pr': 40, 'qn': 25},\n",
              " '1021': {'name': 'pencil', 'pr': 2, 'qn': 100},\n",
              " '1022': {'name': 'books', 'pr': 300, 'qn': 2},\n",
              " '1023': {'name': 'marker', 'pr': 25, 'qn': -4},\n",
              " '1024': {'name': 'eraser', 'pr': 5, 'qn': 10},\n",
              " '1025': {'name': 'ipad', 'pr': 60000, 'qn': 1},\n",
              " '1026': {'name': 'speakers', 'pr': 40000, 'qn': 1},\n",
              " '1027': {'name': 'light', 'pr': 455, 'qn': 4},\n",
              " '1028': {'name': 'stickers', 'pr': 70, 'qn': 2},\n",
              " '1029': {'name': 'charger', 'pr': 400, 'qn': 1},\n",
              " '1030': {'name': 'mask', 'pr': 40, 'qn': 7}}"
            ]
          },
          "metadata": {},
          "execution_count": 131
        }
      ]
    },
    {
      "cell_type": "markdown",
      "metadata": {
        "id": "xQOmgTXzGoLg"
      },
      "source": [
        ""
      ]
    }
  ]
}