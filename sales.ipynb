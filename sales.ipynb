{
  "nbformat": 4,
  "nbformat_minor": 0,
  "metadata": {
    "colab": {
      "name": "sales.ipynb",
      "provenance": [],
      "collapsed_sections": []
    },
    "kernelspec": {
      "name": "python3",
      "display_name": "Python 3"
    },
    "language_info": {
      "name": "python"
    }
  },
  "cells": [
    {
      "cell_type": "code",
      "metadata": {
        "id": "9mCqGVxI2lSv"
      },
      "source": [
        "import json\n",
        "fd = open(\"record.json\",'r')\n",
        "r = fd.read()\n",
        "fd.close()\n",
        "\n",
        "record = json.loads(r)"
      ],
      "execution_count": null,
      "outputs": []
    },
    {
      "cell_type": "code",
      "metadata": {
        "colab": {
          "base_uri": "https://localhost:8080/",
          "height": 120
        },
        "id": "oSO3EQfV2xRP",
        "outputId": "6cd2eb53-b7cd-4b9d-9131-30b6d04e1186"
      },
      "source": [
        "r"
      ],
      "execution_count": null,
      "outputs": [
        {
          "output_type": "execute_result",
          "data": {
            "application/vnd.google.colaboratory.intrinsic+json": {
              "type": "string"
            },
            "text/plain": [
              "'{\"1001\": {\"name\": \"Choco Cake\", \"qn\": 34, \"pr\": 100}, \"1002\": {\"name\": \"Milk Cake\", \"pr\": 800, \"qn\": 100}, \"1003\": {\"name\": \"Drink\", \"pr\": 85, \"qn\": 100}, \"1004\": {\"name\": \"Candy\", \"pr\": 5, \"qn\": 1000}, \"1005\": {\"name\": \"Pen\", \"pr\": 20, \"qn\": 100}, \"1006\": {\"name\": \"Phone\", \"pr\": 50000, \"qn\": 10}, \"1007\": {\"name\": \"Mic\", \"pr\": 1500, \"qn\": 0}, \"1008\": {\"name\": \"Case\", \"pr\": 599, \"qn\": 5}, \"1009\": {\"name\": \"Keyboard\", \"pr\": 1999, \"qn\": 10}, \"1010\": {\"name\": \"mouse\", \"pr\": 300, \"qn\": 7}, \"1011\": {\"name\": \"notebook\", \"pr\": 50, \"qn\": 50}, \"1012\": {\"name\": \"shoes\", \"pr\": 500, \"qn\": 2}, \"1013\": {\"name\": \"bag\", \"pr\": 680, \"qn\": 7}, \"1014\": {\"name\": \"bottle\", \"pr\": 60, \"qn\": 40}, \"1015\": {\"name\": \"juice\", \"pr\": 20, \"qn\": 10}, \"1016\": {\"name\": \"shirt\", \"pr\": 450, \"qn\": 3}, \"1017\": {\"name\": \"maggi\", \"pr\": 10, \"qn\": 10}, \"1018\": {\"name\": \"chips\", \"pr\": 20, \"qn\": 30}, \"1019\": {\"name\": \"fruits\", \"pr\": 30, \"qn\": 20}, \"1020\": {\"name\": \"vegetables\", \"pr\": 40, \"qn\": 25}, \"1021\": {\"name\": \"pencil\", \"pr\": 2, \"qn\": 100}, \"1022\": {\"name\": \"books\", \"pr\": 300, \"qn\": 2}, \"1023\": {\"name\": \"marker\", \"pr\": 25, \"qn\": 4}, \"1024\": {\"name\": \"eraser\", \"pr\": 5, \"qn\": 10}, \"1025\": {\"name\": \"ipad\", \"pr\": 60000, \"qn\": 1}, \"1026\": {\"name\": \"speakers\", \"pr\": 40000, \"qn\": 1}, \"1027\": {\"name\": \"light\", \"pr\": 455, \"qn\": 4}, \"1028\": {\"name\": \"stickers\", \"pr\": 70, \"qn\": 2}, \"1029\": {\"name\": \"charger\", \"pr\": 400, \"qn\": 1}, \"1030\": {\"name\": \"mask\", \"pr\": 40, \"qn\": 15}}'"
            ]
          },
          "metadata": {},
          "execution_count": 50
        }
      ]
    },
    {
      "cell_type": "code",
      "metadata": {
        "id": "3hNSE45h2zRp"
      },
      "source": [
        "\n",
        "js = json.dumps(record)"
      ],
      "execution_count": null,
      "outputs": []
    },
    {
      "cell_type": "code",
      "metadata": {
        "colab": {
          "base_uri": "https://localhost:8080/"
        },
        "id": "MH6ch47D2zdM",
        "outputId": "38cb0ba8-257b-4c71-d24e-d3800bacc5c6"
      },
      "source": [
        "record"
      ],
      "execution_count": 67,
      "outputs": [
        {
          "output_type": "execute_result",
          "data": {
            "text/plain": [
              "{'1001': {'name': 'Choco Cake', 'pr': 100, 'qn': 4},\n",
              " '1002': {'name': 'Milk Cake', 'pr': 800, 'qn': 100},\n",
              " '1003': {'name': 'Drink', 'pr': 85, 'qn': 100},\n",
              " '1004': {'name': 'Candy', 'pr': 5, 'qn': 1000},\n",
              " '1005': {'name': 'Pen', 'pr': 20, 'qn': 100},\n",
              " '1006': {'name': 'Phone', 'pr': 50000, 'qn': 10},\n",
              " '1007': {'name': 'Mic', 'pr': 1500, 'qn': 0},\n",
              " '1008': {'name': 'Case', 'pr': 599, 'qn': 5},\n",
              " '1009': {'name': 'Keyboard', 'pr': 1999, 'qn': 10},\n",
              " '1010': {'name': 'mouse', 'pr': 300, 'qn': 7},\n",
              " '1011': {'name': 'notebook', 'pr': 50, 'qn': 50},\n",
              " '1012': {'name': 'shoes', 'pr': 500, 'qn': 2},\n",
              " '1013': {'name': 'bag', 'pr': 680, 'qn': 7},\n",
              " '1014': {'name': 'bottle', 'pr': 60, 'qn': 40},\n",
              " '1015': {'name': 'juice', 'pr': 20, 'qn': 10},\n",
              " '1016': {'name': 'shirt', 'pr': 450, 'qn': 3},\n",
              " '1017': {'name': 'maggi', 'pr': 10, 'qn': 10},\n",
              " '1018': {'name': 'chips', 'pr': 20, 'qn': 30},\n",
              " '1019': {'name': 'fruits', 'pr': 30, 'qn': 20},\n",
              " '1020': {'name': 'vegetables', 'pr': 40, 'qn': 25},\n",
              " '1021': {'name': 'pencil', 'pr': 2, 'qn': 100},\n",
              " '1022': {'name': 'books', 'pr': 300, 'qn': 2},\n",
              " '1023': {'name': 'marker', 'pr': 25, 'qn': 4},\n",
              " '1024': {'name': 'eraser', 'pr': 5, 'qn': 10},\n",
              " '1025': {'name': 'ipad', 'pr': 60000, 'qn': 1},\n",
              " '1026': {'name': 'speakers', 'pr': 40000, 'qn': 1},\n",
              " '1027': {'name': 'light', 'pr': 455, 'qn': 4},\n",
              " '1028': {'name': 'stickers', 'pr': 70, 'qn': 2},\n",
              " '1029': {'name': 'charger', 'pr': 400, 'qn': 1},\n",
              " '1030': {'name': 'mask', 'pr': 40, 'qn': 15}}"
            ]
          },
          "metadata": {},
          "execution_count": 67
        }
      ]
    },
    {
      "cell_type": "code",
      "metadata": {
        "id": "s0jENs-22_Bm"
      },
      "source": [
        "ui_prod  = str(input(\"Enter the product_Id: \"))\n",
        "ui_quant = int(input(\"Enter the quantity: \"))"
      ],
      "execution_count": null,
      "outputs": []
    },
    {
      "cell_type": "code",
      "metadata": {
        "id": "AqLWOluT2_FW"
      },
      "source": [
        "record[ui_prod]"
      ],
      "execution_count": null,
      "outputs": []
    },
    {
      "cell_type": "code",
      "metadata": {
        "colab": {
          "base_uri": "https://localhost:8080/"
        },
        "id": "XDca3iK67fFr",
        "outputId": "1228983e-5744-401b-ca5a-b5ab4e2dbf12"
      },
      "source": [
        "record[ui_prod]['qn']"
      ],
      "execution_count": null,
      "outputs": [
        {
          "output_type": "execute_result",
          "data": {
            "text/plain": [
              "1"
            ]
          },
          "metadata": {},
          "execution_count": 9
        }
      ]
    },
    {
      "cell_type": "code",
      "metadata": {
        "colab": {
          "base_uri": "https://localhost:8080/"
        },
        "id": "cG-su1Se7fHg",
        "outputId": "bc591003-fed4-45e6-db1c-37a9c533d495"
      },
      "source": [
        "ui_quant, record[ui_prod]['qn']"
      ],
      "execution_count": null,
      "outputs": [
        {
          "output_type": "execute_result",
          "data": {
            "text/plain": [
              "(1, 1)"
            ]
          },
          "metadata": {},
          "execution_count": 10
        }
      ]
    },
    {
      "cell_type": "code",
      "metadata": {
        "colab": {
          "base_uri": "https://localhost:8080/"
        },
        "id": "b0kzJoAV7fKJ",
        "outputId": "dfcaabd4-e033-4e16-fdd0-9e4b21ead97b"
      },
      "source": [
        "record[ui_prod]['pr']"
      ],
      "execution_count": null,
      "outputs": [
        {
          "output_type": "execute_result",
          "data": {
            "text/plain": [
              "400"
            ]
          },
          "metadata": {},
          "execution_count": 11
        }
      ]
    },
    {
      "cell_type": "code",
      "metadata": {
        "colab": {
          "base_uri": "https://localhost:8080/"
        },
        "id": "y-9tjGDN7fM9",
        "outputId": "6b9786b5-c320-4e8f-ff65-f99b9236e0ad"
      },
      "source": [
        "record[ui_prod]['pr']  * ui_quant"
      ],
      "execution_count": null,
      "outputs": [
        {
          "output_type": "execute_result",
          "data": {
            "text/plain": [
              "400"
            ]
          },
          "metadata": {},
          "execution_count": 12
        }
      ]
    },
    {
      "cell_type": "code",
      "metadata": {
        "colab": {
          "base_uri": "https://localhost:8080/"
        },
        "id": "VAPXFusU74XE",
        "outputId": "f3f57607-78c9-438b-ebfd-2aa3bb49f263"
      },
      "source": [
        "ui_prod  = str(input(\"Enter the product_Id: \"))\n",
        "ui_quant = int(input(\"Enter the quantity: \"))\n",
        "\n",
        "\n",
        "print(\"Product: \", record[ui_prod]['name'])\n",
        "print(\"Price: \", record[ui_prod]['pr'])\n",
        "print(\"Billing Amount: \", record[ui_prod]['pr'] * ui_quant)\n",
        "\n",
        "record[ui_prod]['qn'] = record[ui_prod]['qn'] - ui_quant"
      ],
      "execution_count": null,
      "outputs": [
        {
          "output_type": "stream",
          "name": "stdout",
          "text": [
            "Enter the product_Id: 1030\n",
            "Enter the quantity: 1\n",
            "Product:  mask\n",
            "Price:  40\n",
            "Billing Amount:  40\n"
          ]
        }
      ]
    },
    {
      "cell_type": "code",
      "metadata": {
        "colab": {
          "base_uri": "https://localhost:8080/"
        },
        "id": "v1xKrn2K74Yx",
        "outputId": "acc86038-53a2-47d0-dd39-9a1c4f219b11"
      },
      "source": [
        "record[ui_prod]['qn']"
      ],
      "execution_count": null,
      "outputs": [
        {
          "output_type": "execute_result",
          "data": {
            "text/plain": [
              "14"
            ]
          },
          "metadata": {},
          "execution_count": 14
        }
      ]
    },
    {
      "cell_type": "code",
      "metadata": {
        "colab": {
          "base_uri": "https://localhost:8080/"
        },
        "id": "QqO_U8BJ74bJ",
        "outputId": "1b7b7015-ccbb-4d7e-ec9c-d5e8c70a1ee5"
      },
      "source": [
        "record[ui_prod]['qn'] - ui_quant"
      ],
      "execution_count": null,
      "outputs": [
        {
          "output_type": "execute_result",
          "data": {
            "text/plain": [
              "13"
            ]
          },
          "metadata": {},
          "execution_count": 15
        }
      ]
    },
    {
      "cell_type": "code",
      "metadata": {
        "id": "RSHzA6s074eD"
      },
      "source": [
        "record[ui_prod]['qn'] = record[ui_prod]['qn'] - ui_quant"
      ],
      "execution_count": null,
      "outputs": []
    },
    {
      "cell_type": "code",
      "metadata": {
        "id": "4t_r5ORo8NTV"
      },
      "source": [
        "js = json.dumps(record)\n",
        "\n",
        "fd = open(\"record.json\",'w')\n",
        "fd.write(js)\n",
        "fd.close()"
      ],
      "execution_count": null,
      "outputs": []
    },
    {
      "cell_type": "code",
      "metadata": {
        "id": "qqB4wyli8NU7"
      },
      "source": [
        "record"
      ],
      "execution_count": null,
      "outputs": []
    },
    {
      "cell_type": "code",
      "metadata": {
        "colab": {
          "base_uri": "https://localhost:8080/"
        },
        "id": "IUcM98ex8NYO",
        "outputId": "b8c1c09d-2a34-4aed-ab13-e8cdc78c2e09"
      },
      "source": [
        "\n",
        "{'prod' : ui_prod, 'qn' : ui_quant, 'amount': record[ui_prod]['pr'] * ui_quant}"
      ],
      "execution_count": null,
      "outputs": [
        {
          "output_type": "execute_result",
          "data": {
            "text/plain": [
              "{'amount': 200, 'prod': '1030', 'qn': 5}"
            ]
          },
          "metadata": {},
          "execution_count": 35
        }
      ]
    },
    {
      "cell_type": "code",
      "metadata": {
        "id": "Al2uMGFw8XGS"
      },
      "source": [
        "sales = {1 : {'prod' : ui_prod, 'qn' : ui_quant, 'amount': record[ui_prod]['pr'] * ui_quant},\n",
        "         2 : {'prod' : ui_prod, 'qn' : ui_quant, 'amount': record[ui_prod]['pr'] * ui_quant},\n",
        "         3 : {'prod' : ui_prod, 'qn' : ui_quant, 'amount': record[ui_prod]['pr'] * ui_quant}}"
      ],
      "execution_count": null,
      "outputs": []
    },
    {
      "cell_type": "code",
      "metadata": {
        "id": "OAcOSotAlkCF"
      },
      "source": [
        "import datetime "
      ],
      "execution_count": 62,
      "outputs": []
    },
    {
      "cell_type": "code",
      "metadata": {
        "id": "DMSCbhoP8XKn",
        "colab": {
          "base_uri": "https://localhost:8080/"
        },
        "outputId": "3d5cec13-1468-46be-c7c7-bb95f60b9232"
      },
      "source": [
        "sales_list = []\n",
        "counter = 1\n",
        "product_ids = list(record.keys())\n",
        "\n",
        "while True:\n",
        "  user_inp = input(\"Press Q to exit and C to continue\")\n",
        "  if user_inp==\"Q\" or user_inp==\"q\":\n",
        "    break\n",
        "  ui_prod  = str(input(\"Enter the product_Id: \"))\n",
        "  ui_quant = int(input(\"Enter the quantity: \"))\n",
        "  customer_name = str(input(\"Enter your name\"))\n",
        "\n",
        "  if ui_prod not in product_ids:\n",
        "    print(\"Please enter valid id!\")\n",
        "    continue\n",
        "  \n",
        "  if ui_quant> record[ui_prod]['qn']:\n",
        "    print(\"Please select amount less than or equal to {}\".format(record[ui_prod]['qn']))\n",
        "    continue\n",
        " \n",
        "  print(\"Product: \", record[ui_prod]['name'])\n",
        "  print(\"Price: \", record[ui_prod]['pr'])\n",
        "  print(\"Billing Amount: \", record[ui_prod]['pr'] * ui_quant)\n",
        "\n",
        "  record[ui_prod]['qn'] = record[ui_prod]['qn'] - ui_quant\n",
        "  sales = {}\n",
        "  sales[counter] = {}\n",
        "  sales[counter]['customer'] = customer_name\n",
        "  sales[counter]['prod'] = ui_prod \n",
        "  sales[counter]['quantity'] = ui_quant\n",
        "  sales[counter]['billing amount'] = record[ui_prod]['pr'] * ui_quant\n",
        "  sales[counter]['date'] = datetime.datetime.now()\n",
        "  counter+=1\n",
        "  sales_list.append(sales)"
      ],
      "execution_count": 68,
      "outputs": [
        {
          "name": "stdout",
          "output_type": "stream",
          "text": [
            "Press Q to exit and C to continuel\n",
            "Enter the product_Id: 1001\n",
            "Enter the quantity: 2\n",
            "Enter your namemahak\n",
            "Product:  Choco Cake\n",
            "Price:  100\n",
            "Billing Amount:  200\n",
            "Press Q to exit and C to continuel\n",
            "Enter the product_Id: 1014\n",
            "Enter the quantity: 20\n",
            "Enter your namemahak\n",
            "Product:  bottle\n",
            "Price:  60\n",
            "Billing Amount:  1200\n",
            "Press Q to exit and C to continueo\n",
            "Enter the product_Id: 1002\n",
            "Enter the quantity: 50\n",
            "Enter your namepari\n",
            "Product:  Milk Cake\n",
            "Price:  800\n",
            "Billing Amount:  40000\n",
            "Press Q to exit and C to continueo\n",
            "Enter the product_Id: 1018\n",
            "Enter the quantity: 20\n",
            "Enter your nameaarav\n",
            "Product:  chips\n",
            "Price:  20\n",
            "Billing Amount:  400\n",
            "Press Q to exit and C to continues\n",
            "Enter the product_Id: 1004\n",
            "Enter the quantity: 500\n",
            "Enter your namemahak\n",
            "Product:  Candy\n",
            "Price:  5\n",
            "Billing Amount:  2500\n",
            "Press Q to exit and C to continuel\n",
            "Enter the product_Id: 1021\n",
            "Enter the quantity: 25\n",
            "Enter your namerimps\n",
            "Product:  pencil\n",
            "Price:  2\n",
            "Billing Amount:  50\n",
            "Press Q to exit and C to continuek\n",
            "Enter the product_Id: 1008\n",
            "Enter the quantity: 2\n",
            "Enter your namealok\n",
            "Product:  Case\n",
            "Price:  599\n",
            "Billing Amount:  1198\n",
            "Press Q to exit and C to continues\n",
            "Enter the product_Id: 1024\n",
            "Enter the quantity: 5\n",
            "Enter your namearchi\n",
            "Product:  eraser\n",
            "Price:  5\n",
            "Billing Amount:  25\n",
            "Press Q to exit and C to continuep\n",
            "Enter the product_Id: 1011\n",
            "Enter the quantity: 25\n",
            "Enter your nameruby\n",
            "Product:  notebook\n",
            "Price:  50\n",
            "Billing Amount:  1250\n",
            "Press Q to exit and C to continuef\n",
            "Enter the product_Id: 1030\n",
            "Enter the quantity: 10\n",
            "Enter your namemaak\n",
            "Product:  mask\n",
            "Price:  40\n",
            "Billing Amount:  400\n",
            "Press Q to exit and C to continueq\n"
          ]
        }
      ]
    },
    {
      "cell_type": "code",
      "metadata": {
        "colab": {
          "base_uri": "https://localhost:8080/"
        },
        "id": "ocsOtHGxnp4c",
        "outputId": "228b0e97-9bdf-4459-cbd0-87267ed2e19d"
      },
      "source": [
        "sales_list"
      ],
      "execution_count": 72,
      "outputs": [
        {
          "output_type": "execute_result",
          "data": {
            "text/plain": [
              "[{1: {'billing amount': 200,\n",
              "   'customer': 'mahak',\n",
              "   'date': datetime.datetime(2021, 9, 5, 15, 43, 9, 789374),\n",
              "   'prod': '1001',\n",
              "   'quantity': 2}},\n",
              " {2: {'billing amount': 1200,\n",
              "   'customer': 'mahak',\n",
              "   'date': datetime.datetime(2021, 9, 5, 15, 43, 26, 524097),\n",
              "   'prod': '1014',\n",
              "   'quantity': 20}},\n",
              " {3: {'billing amount': 40000,\n",
              "   'customer': 'pari',\n",
              "   'date': datetime.datetime(2021, 9, 5, 15, 43, 46, 249331),\n",
              "   'prod': '1002',\n",
              "   'quantity': 50}},\n",
              " {4: {'billing amount': 400,\n",
              "   'customer': 'aarav',\n",
              "   'date': datetime.datetime(2021, 9, 5, 15, 44, 8, 821694),\n",
              "   'prod': '1018',\n",
              "   'quantity': 20}},\n",
              " {5: {'billing amount': 2500,\n",
              "   'customer': 'mahak',\n",
              "   'date': datetime.datetime(2021, 9, 5, 15, 44, 27, 929430),\n",
              "   'prod': '1004',\n",
              "   'quantity': 500}},\n",
              " {6: {'billing amount': 50,\n",
              "   'customer': 'rimps',\n",
              "   'date': datetime.datetime(2021, 9, 5, 15, 44, 45, 654590),\n",
              "   'prod': '1021',\n",
              "   'quantity': 25}},\n",
              " {7: {'billing amount': 1198,\n",
              "   'customer': 'alok',\n",
              "   'date': datetime.datetime(2021, 9, 5, 15, 45, 2, 681923),\n",
              "   'prod': '1008',\n",
              "   'quantity': 2}},\n",
              " {8: {'billing amount': 25,\n",
              "   'customer': 'archi',\n",
              "   'date': datetime.datetime(2021, 9, 5, 15, 45, 24, 648109),\n",
              "   'prod': '1024',\n",
              "   'quantity': 5}},\n",
              " {9: {'billing amount': 1250,\n",
              "   'customer': 'ruby',\n",
              "   'date': datetime.datetime(2021, 9, 5, 15, 45, 51, 529202),\n",
              "   'prod': '1011',\n",
              "   'quantity': 25}},\n",
              " {10: {'billing amount': 400,\n",
              "   'customer': 'maak',\n",
              "   'date': datetime.datetime(2021, 9, 5, 15, 46, 8, 506188),\n",
              "   'prod': '1030',\n",
              "   'quantity': 10}}]"
            ]
          },
          "metadata": {},
          "execution_count": 72
        }
      ]
    },
    {
      "cell_type": "code",
      "metadata": {
        "id": "a2NNi7XhmZ7_"
      },
      "source": [
        "js = json.dumps(sales_list, default=str)"
      ],
      "execution_count": 73,
      "outputs": []
    },
    {
      "cell_type": "code",
      "metadata": {
        "id": "eTS2PSiff3v1"
      },
      "source": [
        "\n",
        "\n",
        "fd = open(\"sales.json\",'w')\n",
        "fd.write(js)\n",
        "fd.close()"
      ],
      "execution_count": 74,
      "outputs": []
    }
  ]
}